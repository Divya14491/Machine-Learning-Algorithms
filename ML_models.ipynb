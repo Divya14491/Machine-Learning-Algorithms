{
 "cells": [
  {
   "cell_type": "markdown",
   "id": "471f5001",
   "metadata": {},
   "source": [
    "# Prediction of Heat in district heating system using different Machine Learning algorithms and checking their accuracy:\n",
    "\n",
    "\n",
    "## Step 1: Importing necessary files for model prediction\n"
   ]
  },
  {
   "cell_type": "code",
   "execution_count": 215,
   "id": "1ebc9d33",
   "metadata": {},
   "outputs": [],
   "source": [
    "import numpy as np\n",
    "import pandas as pd\n",
    "from sklearn import preprocessing\n",
    "import matplotlib.pyplot as plt\n",
    "import seaborn as sns\n",
    "from sklearn.model_selection import train_test_split\n",
    "import tensorflow as tf\n",
    "from tensorflow import keras\n",
    "import sklearn.model_selection as ms\n",
    "import sklearn.linear_model as lm\n",
    "from sklearn.ensemble import RandomForestRegressor\n",
    "from sklearn.svm import SVR\n",
    "import matplotlib.pyplot as plt\n",
    "import seaborn as sns\n",
    "from sklearn.metrics import mean_absolute_error\n",
    "from sklearn.metrics import mean_squared_error\n",
    "from sklearn.metrics import r2_score\n",
    "from sklearn.metrics import accuracy_score"
   ]
  },
  {
   "cell_type": "markdown",
   "id": "9f8efdd4",
   "metadata": {},
   "source": [
    "## Step 2: Upload dataset as csv file"
   ]
  },
  {
   "cell_type": "code",
   "execution_count": 164,
   "id": "69ee5052",
   "metadata": {},
   "outputs": [],
   "source": [
    "Data = pd.read_csv(\"C:/Users/Lenovo/Desktop/HeatAlgorithms/Machine Learning Algorithms/Dataset.csv\")"
   ]
  },
  {
   "cell_type": "code",
   "execution_count": 165,
   "id": "5a853ae9",
   "metadata": {},
   "outputs": [
    {
     "name": "stdout",
     "output_type": "stream",
     "text": [
      "       X1     X2     X3      X4   X5  X6   X7  X8     Y1     Y2\n",
      "0    0.98  514.5  294.0  110.25  7.0   2  0.0   0  15.55  21.33\n",
      "1    0.98  514.5  294.0  110.25  7.0   3  0.0   0  15.55  21.33\n",
      "2    0.98  514.5  294.0  110.25  7.0   4  0.0   0  15.55  21.33\n",
      "3    0.98  514.5  294.0  110.25  7.0   5  0.0   0  15.55  21.33\n",
      "4    0.90  563.5  318.5  122.50  7.0   2  0.0   0  20.84  28.28\n",
      "..    ...    ...    ...     ...  ...  ..  ...  ..    ...    ...\n",
      "763  0.64  784.0  343.0  220.50  3.5   5  0.4   5  17.88  21.40\n",
      "764  0.62  808.5  367.5  220.50  3.5   2  0.4   5  16.54  16.88\n",
      "765  0.62  808.5  367.5  220.50  3.5   3  0.4   5  16.44  17.11\n",
      "766  0.62  808.5  367.5  220.50  3.5   4  0.4   5  16.48  16.61\n",
      "767  0.62  808.5  367.5  220.50  3.5   5  0.4   5  16.64  16.03\n",
      "\n",
      "[768 rows x 10 columns]\n"
     ]
    }
   ],
   "source": [
    "print(Data)"
   ]
  },
  {
   "cell_type": "markdown",
   "id": "090cc7ee",
   "metadata": {},
   "source": [
    "## Step 3:Pre - processing of the data:"
   ]
  },
  {
   "cell_type": "code",
   "execution_count": 166,
   "id": "82b71ce9",
   "metadata": {},
   "outputs": [
    {
     "name": "stdout",
     "output_type": "stream",
     "text": [
      "<class 'pandas.core.frame.DataFrame'>\n",
      "RangeIndex: 768 entries, 0 to 767\n",
      "Data columns (total 10 columns):\n",
      " #   Column  Non-Null Count  Dtype  \n",
      "---  ------  --------------  -----  \n",
      " 0   X1      768 non-null    float64\n",
      " 1   X2      768 non-null    float64\n",
      " 2   X3      768 non-null    float64\n",
      " 3   X4      768 non-null    float64\n",
      " 4   X5      768 non-null    float64\n",
      " 5   X6      768 non-null    int64  \n",
      " 6   X7      768 non-null    float64\n",
      " 7   X8      768 non-null    int64  \n",
      " 8   Y1      768 non-null    float64\n",
      " 9   Y2      768 non-null    float64\n",
      "dtypes: float64(8), int64(2)\n",
      "memory usage: 60.1 KB\n"
     ]
    }
   ],
   "source": [
    "Data.info()"
   ]
  },
  {
   "cell_type": "markdown",
   "id": "ca514d4f",
   "metadata": {},
   "source": [
    "### Here, each column represents the data as follows:\n",
    "<table align=\"left\">\n",
    "  <thead>\n",
    "    <tr>\n",
    "      <th>Column Name</th>\n",
    "      <th>Description</th>\n",
    "    </tr>\n",
    "  </thead>\n",
    "  <tbody>\n",
    "    <tr>\n",
    "      <td>X1</td>\n",
    "      <td>Relative Compactness</td>\n",
    "    </tr>\n",
    "    <tr>\n",
    "      <td>X2</td>\n",
    "      <td>Surface Area</td>\n",
    "    </tr>\n",
    "    <tr>\n",
    "      <td>X3</td>\n",
    "      <td>Wall Area</td>\n",
    "    </tr>\n",
    "    <tr>\n",
    "      <td>X4</td>\n",
    "      <td>Roof Area</td>\n",
    "    </tr>\n",
    "    <tr>\n",
    "      <td>X5</td>\n",
    "      <td>Overall Height</td>\n",
    "    </tr>\n",
    "    <tr>\n",
    "      <td>X6</td>\n",
    "      <td>Orientation</td>\n",
    "    </tr>\n",
    "    <tr>\n",
    "      <td>X7</td>\n",
    "      <td>Glazing Area</td>\n",
    "    </tr>\n",
    "    <tr>\n",
    "      <td>X8</td>\n",
    "      <td>Glazing Area Distribution</td>\n",
    "    </tr>\n",
    "    <tr>\n",
    "      <td>Y1</td>\n",
    "      <td>Heating Load</td>\n",
    "    </tr>\n",
    "    <tr>\n",
    "      <td>Y2</td>\n",
    "      <td>Cooling Load</td>\n",
    "    </tr>\n",
    "  </tbody>\n",
    "</table>\n",
    "\n"
   ]
  },
  {
   "cell_type": "markdown",
   "id": "675d9c8c",
   "metadata": {},
   "source": [
    "### Since, Y2 is related to cooling load and for this project only heating load is required so we can drop column Y2 for the prediction of heat."
   ]
  },
  {
   "cell_type": "code",
   "execution_count": 167,
   "id": "2e602efa",
   "metadata": {},
   "outputs": [],
   "source": [
    "Data = Data.drop(['Y2'], axis = 1)"
   ]
  },
  {
   "cell_type": "markdown",
   "id": "d9f90b11",
   "metadata": {},
   "source": [
    "## Data Visualization:"
   ]
  },
  {
   "cell_type": "code",
   "execution_count": 168,
   "id": "632b160e",
   "metadata": {},
   "outputs": [
    {
     "data": {
      "image/png": "[encoded data removed]",
      "text/plain": [
       "<Figure size 360x360 with 1 Axes>"
      ]
     },
     "metadata": {
      "needs_background": "light"
     },
     "output_type": "display_data"
    },
    {
     "data": {
      "image/png": "[encoded data removed]",
      "text/plain": [
       "<Figure size 360x360 with 1 Axes>"
      ]
     },
     "metadata": {
      "needs_background": "light"
     },
     "output_type": "display_data"
    },
    {
     "data": {
      "image/png": "[encoded data removed]",
      "text/plain": [
       "<Figure size 360x360 with 1 Axes>"
      ]
     },
     "metadata": {
      "needs_background": "light"
     },
     "output_type": "display_data"
    },
    {
     "data": {
      "image/png": "[encoded data removed]",
      "text/plain": [
       "<Figure size 360x360 with 1 Axes>"
      ]
     },
     "metadata": {
      "needs_background": "light"
     },
     "output_type": "display_data"
    },
    {
     "data": {
      "image/png": "[encoded data removed]",
      "text/plain": [
       "<Figure size 360x360 with 1 Axes>"
      ]
     },
     "metadata": {
      "needs_background": "light"
     },
     "output_type": "display_data"
    },
    {
     "data": {
      "image/png": "[encoded data removed]",
      "text/plain": [
       "<Figure size 360x360 with 1 Axes>"
      ]
     },
     "metadata": {
      "needs_background": "light"
     },
     "output_type": "display_data"
    },
    {
     "data": {
      "image/png": "[encoded data removed]",
      "text/plain": [
       "<Figure size 360x360 with 1 Axes>"
      ]
     },
     "metadata": {
      "needs_background": "light"
     },
     "output_type": "display_data"
    },
    {
     "data": {
      "image/png": "[encoded data removed]",
      "text/plain": [
       "<Figure size 360x360 with 1 Axes>"
      ]
     },
     "metadata": {
      "needs_background": "light"
     },
     "output_type": "display_data"
    },
    {
     "data": {
      "image/png": "[encoded data removed]",
      "text/plain": [
       "<Figure size 360x360 with 1 Axes>"
      ]
     },
     "metadata": {
      "needs_background": "light"
     },
     "output_type": "display_data"
    }
   ],
   "source": [
    "for i in Data.columns:\n",
    "    plt.figure(figsize=(5,5))\n",
    "    sns.histplot(data= Data[i], kde= True, multiple='stack')\n",
    "    plt.show()"
   ]
  },
  {
   "cell_type": "code",
   "execution_count": 169,
   "id": "b02502cd",
   "metadata": {},
   "outputs": [
    {
     "data": {
      "text/html": [
       "<div>\n",
       "<style scoped>\n",
       "    .dataframe tbody tr th:only-of-type {\n",
       "        vertical-align: middle;\n",
       "    }\n",
       "\n",
       "    .dataframe tbody tr th {\n",
       "        vertical-align: top;\n",
       "    }\n",
       "\n",
       "    .dataframe thead th {\n",
       "        text-align: right;\n",
       "    }\n",
       "</style>\n",
       "<table border=\"1\" class=\"dataframe\">\n",
       "  <thead>\n",
       "    <tr style=\"text-align: right;\">\n",
       "      <th></th>\n",
       "      <th>X1</th>\n",
       "      <th>X2</th>\n",
       "      <th>X3</th>\n",
       "      <th>X4</th>\n",
       "      <th>X5</th>\n",
       "      <th>X6</th>\n",
       "      <th>X7</th>\n",
       "      <th>X8</th>\n",
       "      <th>Y1</th>\n",
       "    </tr>\n",
       "  </thead>\n",
       "  <tbody>\n",
       "    <tr>\n",
       "      <th>X1</th>\n",
       "      <td>1.000000e+00</td>\n",
       "      <td>-9.919015e-01</td>\n",
       "      <td>-2.037817e-01</td>\n",
       "      <td>-8.688234e-01</td>\n",
       "      <td>8.277473e-01</td>\n",
       "      <td>4.678592e-17</td>\n",
       "      <td>-2.960552e-15</td>\n",
       "      <td>-7.107006e-16</td>\n",
       "      <td>0.622272</td>\n",
       "    </tr>\n",
       "    <tr>\n",
       "      <th>X2</th>\n",
       "      <td>-9.919015e-01</td>\n",
       "      <td>1.000000e+00</td>\n",
       "      <td>1.955016e-01</td>\n",
       "      <td>8.807195e-01</td>\n",
       "      <td>-8.581477e-01</td>\n",
       "      <td>-3.459372e-17</td>\n",
       "      <td>3.636925e-15</td>\n",
       "      <td>2.438409e-15</td>\n",
       "      <td>-0.658120</td>\n",
       "    </tr>\n",
       "    <tr>\n",
       "      <th>X3</th>\n",
       "      <td>-2.037817e-01</td>\n",
       "      <td>1.955016e-01</td>\n",
       "      <td>1.000000e+00</td>\n",
       "      <td>-2.923165e-01</td>\n",
       "      <td>2.809757e-01</td>\n",
       "      <td>-2.429499e-17</td>\n",
       "      <td>-8.567455e-17</td>\n",
       "      <td>2.067384e-16</td>\n",
       "      <td>0.455671</td>\n",
       "    </tr>\n",
       "    <tr>\n",
       "      <th>X4</th>\n",
       "      <td>-8.688234e-01</td>\n",
       "      <td>8.807195e-01</td>\n",
       "      <td>-2.923165e-01</td>\n",
       "      <td>1.000000e+00</td>\n",
       "      <td>-9.725122e-01</td>\n",
       "      <td>-5.830058e-17</td>\n",
       "      <td>-1.759011e-15</td>\n",
       "      <td>-1.078071e-15</td>\n",
       "      <td>-0.861828</td>\n",
       "    </tr>\n",
       "    <tr>\n",
       "      <th>X5</th>\n",
       "      <td>8.277473e-01</td>\n",
       "      <td>-8.581477e-01</td>\n",
       "      <td>2.809757e-01</td>\n",
       "      <td>-9.725122e-01</td>\n",
       "      <td>1.000000e+00</td>\n",
       "      <td>4.492205e-17</td>\n",
       "      <td>1.489134e-17</td>\n",
       "      <td>-2.920613e-17</td>\n",
       "      <td>0.889431</td>\n",
       "    </tr>\n",
       "    <tr>\n",
       "      <th>X6</th>\n",
       "      <td>4.678592e-17</td>\n",
       "      <td>-3.459372e-17</td>\n",
       "      <td>-2.429499e-17</td>\n",
       "      <td>-5.830058e-17</td>\n",
       "      <td>4.492205e-17</td>\n",
       "      <td>1.000000e+00</td>\n",
       "      <td>-9.406007e-16</td>\n",
       "      <td>-2.549352e-16</td>\n",
       "      <td>-0.002587</td>\n",
       "    </tr>\n",
       "    <tr>\n",
       "      <th>X7</th>\n",
       "      <td>-2.960552e-15</td>\n",
       "      <td>3.636925e-15</td>\n",
       "      <td>-8.567455e-17</td>\n",
       "      <td>-1.759011e-15</td>\n",
       "      <td>1.489134e-17</td>\n",
       "      <td>-9.406007e-16</td>\n",
       "      <td>1.000000e+00</td>\n",
       "      <td>2.129642e-01</td>\n",
       "      <td>0.269841</td>\n",
       "    </tr>\n",
       "    <tr>\n",
       "      <th>X8</th>\n",
       "      <td>-7.107006e-16</td>\n",
       "      <td>2.438409e-15</td>\n",
       "      <td>2.067384e-16</td>\n",
       "      <td>-1.078071e-15</td>\n",
       "      <td>-2.920613e-17</td>\n",
       "      <td>-2.549352e-16</td>\n",
       "      <td>2.129642e-01</td>\n",
       "      <td>1.000000e+00</td>\n",
       "      <td>0.087368</td>\n",
       "    </tr>\n",
       "    <tr>\n",
       "      <th>Y1</th>\n",
       "      <td>6.222722e-01</td>\n",
       "      <td>-6.581202e-01</td>\n",
       "      <td>4.556712e-01</td>\n",
       "      <td>-8.618283e-01</td>\n",
       "      <td>8.894307e-01</td>\n",
       "      <td>-2.586534e-03</td>\n",
       "      <td>2.698410e-01</td>\n",
       "      <td>8.736759e-02</td>\n",
       "      <td>1.000000</td>\n",
       "    </tr>\n",
       "  </tbody>\n",
       "</table>\n",
       "</div>"
      ],
      "text/plain": [
       "              X1            X2            X3            X4            X5  \\\n",
       "X1  1.000000e+00 -9.919015e-01 -2.037817e-01 -8.688234e-01  8.277473e-01   \n",
       "X2 -9.919015e-01  1.000000e+00  1.955016e-01  8.807195e-01 -8.581477e-01   \n",
       "X3 -2.037817e-01  1.955016e-01  1.000000e+00 -2.923165e-01  2.809757e-01   \n",
       "X4 -8.688234e-01  8.807195e-01 -2.923165e-01  1.000000e+00 -9.725122e-01   \n",
       "X5  8.277473e-01 -8.581477e-01  2.809757e-01 -9.725122e-01  1.000000e+00   \n",
       "X6  4.678592e-17 -3.459372e-17 -2.429499e-17 -5.830058e-17  4.492205e-17   \n",
       "X7 -2.960552e-15  3.636925e-15 -8.567455e-17 -1.759011e-15  1.489134e-17   \n",
       "X8 -7.107006e-16  2.438409e-15  2.067384e-16 -1.078071e-15 -2.920613e-17   \n",
       "Y1  6.222722e-01 -6.581202e-01  4.556712e-01 -8.618283e-01  8.894307e-01   \n",
       "\n",
       "              X6            X7            X8        Y1  \n",
       "X1  4.678592e-17 -2.960552e-15 -7.107006e-16  0.622272  \n",
       "X2 -3.459372e-17  3.636925e-15  2.438409e-15 -0.658120  \n",
       "X3 -2.429499e-17 -8.567455e-17  2.067384e-16  0.455671  \n",
       "X4 -5.830058e-17 -1.759011e-15 -1.078071e-15 -0.861828  \n",
       "X5  4.492205e-17  1.489134e-17 -2.920613e-17  0.889431  \n",
       "X6  1.000000e+00 -9.406007e-16 -2.549352e-16 -0.002587  \n",
       "X7 -9.406007e-16  1.000000e+00  2.129642e-01  0.269841  \n",
       "X8 -2.549352e-16  2.129642e-01  1.000000e+00  0.087368  \n",
       "Y1 -2.586534e-03  2.698410e-01  8.736759e-02  1.000000  "
      ]
     },
     "execution_count": 169,
     "metadata": {},
     "output_type": "execute_result"
    }
   ],
   "source": [
    "Data.corr()"
   ]
  },
  {
   "cell_type": "code",
   "execution_count": 170,
   "id": "c3f53e58",
   "metadata": {},
   "outputs": [
    {
     "data": {
      "text/plain": [
       "<AxesSubplot:>"
      ]
     },
     "execution_count": 170,
     "metadata": {},
     "output_type": "execute_result"
    },
    {
     "data": {
      "image/png": "[encoded data removed]",
      "text/plain": [
       "<Figure size 720x720 with 2 Axes>"
      ]
     },
     "metadata": {
      "needs_background": "light"
     },
     "output_type": "display_data"
    }
   ],
   "source": [
    "plt.figure(figsize = (10,10))\n",
    "sns.heatmap(Data.corr(), annot = True, fmt = '.2f',cmap = 'Blues')"
   ]
  },
  {
   "cell_type": "markdown",
   "id": "34be655c",
   "metadata": {},
   "source": [
    "## Step 4: Train Test Splitting of the data"
   ]
  },
  {
   "cell_type": "code",
   "execution_count": 171,
   "id": "7f0e7421",
   "metadata": {},
   "outputs": [],
   "source": [
    "\n",
    "X_train, X_test, Y_train, Y_test = train_test_split(Data[['X1','X2','X3','X4','X5','X6','X7','X8']], Data.Y1,test_size = 0.3, random_state = 0)"
   ]
  },
  {
   "cell_type": "code",
   "execution_count": 172,
   "id": "d766e1ad",
   "metadata": {},
   "outputs": [
    {
     "data": {
      "text/html": [
       "<div>\n",
       "<style scoped>\n",
       "    .dataframe tbody tr th:only-of-type {\n",
       "        vertical-align: middle;\n",
       "    }\n",
       "\n",
       "    .dataframe tbody tr th {\n",
       "        vertical-align: top;\n",
       "    }\n",
       "\n",
       "    .dataframe thead th {\n",
       "        text-align: right;\n",
       "    }\n",
       "</style>\n",
       "<table border=\"1\" class=\"dataframe\">\n",
       "  <thead>\n",
       "    <tr style=\"text-align: right;\">\n",
       "      <th></th>\n",
       "      <th>X1</th>\n",
       "      <th>X2</th>\n",
       "      <th>X3</th>\n",
       "      <th>X4</th>\n",
       "      <th>X5</th>\n",
       "      <th>X6</th>\n",
       "      <th>X7</th>\n",
       "      <th>X8</th>\n",
       "    </tr>\n",
       "  </thead>\n",
       "  <tbody>\n",
       "    <tr>\n",
       "      <th>580</th>\n",
       "      <td>0.90</td>\n",
       "      <td>563.5</td>\n",
       "      <td>318.5</td>\n",
       "      <td>122.50</td>\n",
       "      <td>7.0</td>\n",
       "      <td>2</td>\n",
       "      <td>0.40</td>\n",
       "      <td>2</td>\n",
       "    </tr>\n",
       "    <tr>\n",
       "      <th>418</th>\n",
       "      <td>0.69</td>\n",
       "      <td>735.0</td>\n",
       "      <td>294.0</td>\n",
       "      <td>220.50</td>\n",
       "      <td>3.5</td>\n",
       "      <td>4</td>\n",
       "      <td>0.25</td>\n",
       "      <td>3</td>\n",
       "    </tr>\n",
       "    <tr>\n",
       "      <th>764</th>\n",
       "      <td>0.62</td>\n",
       "      <td>808.5</td>\n",
       "      <td>367.5</td>\n",
       "      <td>220.50</td>\n",
       "      <td>3.5</td>\n",
       "      <td>2</td>\n",
       "      <td>0.40</td>\n",
       "      <td>5</td>\n",
       "    </tr>\n",
       "    <tr>\n",
       "      <th>363</th>\n",
       "      <td>0.74</td>\n",
       "      <td>686.0</td>\n",
       "      <td>245.0</td>\n",
       "      <td>220.50</td>\n",
       "      <td>3.5</td>\n",
       "      <td>5</td>\n",
       "      <td>0.25</td>\n",
       "      <td>2</td>\n",
       "    </tr>\n",
       "    <tr>\n",
       "      <th>757</th>\n",
       "      <td>0.66</td>\n",
       "      <td>759.5</td>\n",
       "      <td>318.5</td>\n",
       "      <td>220.50</td>\n",
       "      <td>3.5</td>\n",
       "      <td>3</td>\n",
       "      <td>0.40</td>\n",
       "      <td>5</td>\n",
       "    </tr>\n",
       "    <tr>\n",
       "      <th>...</th>\n",
       "      <td>...</td>\n",
       "      <td>...</td>\n",
       "      <td>...</td>\n",
       "      <td>...</td>\n",
       "      <td>...</td>\n",
       "      <td>...</td>\n",
       "      <td>...</td>\n",
       "      <td>...</td>\n",
       "    </tr>\n",
       "    <tr>\n",
       "      <th>763</th>\n",
       "      <td>0.64</td>\n",
       "      <td>784.0</td>\n",
       "      <td>343.0</td>\n",
       "      <td>220.50</td>\n",
       "      <td>3.5</td>\n",
       "      <td>5</td>\n",
       "      <td>0.40</td>\n",
       "      <td>5</td>\n",
       "    </tr>\n",
       "    <tr>\n",
       "      <th>192</th>\n",
       "      <td>0.98</td>\n",
       "      <td>514.5</td>\n",
       "      <td>294.0</td>\n",
       "      <td>110.25</td>\n",
       "      <td>7.0</td>\n",
       "      <td>2</td>\n",
       "      <td>0.10</td>\n",
       "      <td>4</td>\n",
       "    </tr>\n",
       "    <tr>\n",
       "      <th>629</th>\n",
       "      <td>0.90</td>\n",
       "      <td>563.5</td>\n",
       "      <td>318.5</td>\n",
       "      <td>122.50</td>\n",
       "      <td>7.0</td>\n",
       "      <td>3</td>\n",
       "      <td>0.40</td>\n",
       "      <td>3</td>\n",
       "    </tr>\n",
       "    <tr>\n",
       "      <th>559</th>\n",
       "      <td>0.71</td>\n",
       "      <td>710.5</td>\n",
       "      <td>269.5</td>\n",
       "      <td>220.50</td>\n",
       "      <td>3.5</td>\n",
       "      <td>5</td>\n",
       "      <td>0.40</td>\n",
       "      <td>1</td>\n",
       "    </tr>\n",
       "    <tr>\n",
       "      <th>684</th>\n",
       "      <td>0.82</td>\n",
       "      <td>612.5</td>\n",
       "      <td>318.5</td>\n",
       "      <td>147.00</td>\n",
       "      <td>7.0</td>\n",
       "      <td>2</td>\n",
       "      <td>0.40</td>\n",
       "      <td>4</td>\n",
       "    </tr>\n",
       "  </tbody>\n",
       "</table>\n",
       "<p>537 rows × 8 columns</p>\n",
       "</div>"
      ],
      "text/plain": [
       "       X1     X2     X3      X4   X5  X6    X7  X8\n",
       "580  0.90  563.5  318.5  122.50  7.0   2  0.40   2\n",
       "418  0.69  735.0  294.0  220.50  3.5   4  0.25   3\n",
       "764  0.62  808.5  367.5  220.50  3.5   2  0.40   5\n",
       "363  0.74  686.0  245.0  220.50  3.5   5  0.25   2\n",
       "757  0.66  759.5  318.5  220.50  3.5   3  0.40   5\n",
       "..    ...    ...    ...     ...  ...  ..   ...  ..\n",
       "763  0.64  784.0  343.0  220.50  3.5   5  0.40   5\n",
       "192  0.98  514.5  294.0  110.25  7.0   2  0.10   4\n",
       "629  0.90  563.5  318.5  122.50  7.0   3  0.40   3\n",
       "559  0.71  710.5  269.5  220.50  3.5   5  0.40   1\n",
       "684  0.82  612.5  318.5  147.00  7.0   2  0.40   4\n",
       "\n",
       "[537 rows x 8 columns]"
      ]
     },
     "execution_count": 172,
     "metadata": {},
     "output_type": "execute_result"
    }
   ],
   "source": [
    "X_train"
   ]
  },
  {
   "cell_type": "code",
   "execution_count": 173,
   "id": "f0d3df70",
   "metadata": {},
   "outputs": [
    {
     "data": {
      "text/html": [
       "<div>\n",
       "<style scoped>\n",
       "    .dataframe tbody tr th:only-of-type {\n",
       "        vertical-align: middle;\n",
       "    }\n",
       "\n",
       "    .dataframe tbody tr th {\n",
       "        vertical-align: top;\n",
       "    }\n",
       "\n",
       "    .dataframe thead th {\n",
       "        text-align: right;\n",
       "    }\n",
       "</style>\n",
       "<table border=\"1\" class=\"dataframe\">\n",
       "  <thead>\n",
       "    <tr style=\"text-align: right;\">\n",
       "      <th></th>\n",
       "      <th>X1</th>\n",
       "      <th>X2</th>\n",
       "      <th>X3</th>\n",
       "      <th>X4</th>\n",
       "      <th>X5</th>\n",
       "      <th>X6</th>\n",
       "      <th>X7</th>\n",
       "      <th>X8</th>\n",
       "    </tr>\n",
       "  </thead>\n",
       "  <tbody>\n",
       "    <tr>\n",
       "      <th>661</th>\n",
       "      <td>0.66</td>\n",
       "      <td>759.5</td>\n",
       "      <td>318.5</td>\n",
       "      <td>220.50</td>\n",
       "      <td>3.5</td>\n",
       "      <td>3</td>\n",
       "      <td>0.40</td>\n",
       "      <td>3</td>\n",
       "    </tr>\n",
       "    <tr>\n",
       "      <th>122</th>\n",
       "      <td>0.74</td>\n",
       "      <td>686.0</td>\n",
       "      <td>245.0</td>\n",
       "      <td>220.50</td>\n",
       "      <td>3.5</td>\n",
       "      <td>4</td>\n",
       "      <td>0.10</td>\n",
       "      <td>2</td>\n",
       "    </tr>\n",
       "    <tr>\n",
       "      <th>113</th>\n",
       "      <td>0.79</td>\n",
       "      <td>637.0</td>\n",
       "      <td>343.0</td>\n",
       "      <td>147.00</td>\n",
       "      <td>7.0</td>\n",
       "      <td>3</td>\n",
       "      <td>0.10</td>\n",
       "      <td>2</td>\n",
       "    </tr>\n",
       "    <tr>\n",
       "      <th>14</th>\n",
       "      <td>0.82</td>\n",
       "      <td>612.5</td>\n",
       "      <td>318.5</td>\n",
       "      <td>147.00</td>\n",
       "      <td>7.0</td>\n",
       "      <td>4</td>\n",
       "      <td>0.00</td>\n",
       "      <td>0</td>\n",
       "    </tr>\n",
       "    <tr>\n",
       "      <th>529</th>\n",
       "      <td>0.98</td>\n",
       "      <td>514.5</td>\n",
       "      <td>294.0</td>\n",
       "      <td>110.25</td>\n",
       "      <td>7.0</td>\n",
       "      <td>3</td>\n",
       "      <td>0.40</td>\n",
       "      <td>1</td>\n",
       "    </tr>\n",
       "    <tr>\n",
       "      <th>...</th>\n",
       "      <td>...</td>\n",
       "      <td>...</td>\n",
       "      <td>...</td>\n",
       "      <td>...</td>\n",
       "      <td>...</td>\n",
       "      <td>...</td>\n",
       "      <td>...</td>\n",
       "      <td>...</td>\n",
       "    </tr>\n",
       "    <tr>\n",
       "      <th>165</th>\n",
       "      <td>0.76</td>\n",
       "      <td>661.5</td>\n",
       "      <td>416.5</td>\n",
       "      <td>122.50</td>\n",
       "      <td>7.0</td>\n",
       "      <td>3</td>\n",
       "      <td>0.10</td>\n",
       "      <td>3</td>\n",
       "    </tr>\n",
       "    <tr>\n",
       "      <th>188</th>\n",
       "      <td>0.62</td>\n",
       "      <td>808.5</td>\n",
       "      <td>367.5</td>\n",
       "      <td>220.50</td>\n",
       "      <td>3.5</td>\n",
       "      <td>2</td>\n",
       "      <td>0.10</td>\n",
       "      <td>3</td>\n",
       "    </tr>\n",
       "    <tr>\n",
       "      <th>334</th>\n",
       "      <td>0.62</td>\n",
       "      <td>808.5</td>\n",
       "      <td>367.5</td>\n",
       "      <td>220.50</td>\n",
       "      <td>3.5</td>\n",
       "      <td>4</td>\n",
       "      <td>0.25</td>\n",
       "      <td>1</td>\n",
       "    </tr>\n",
       "    <tr>\n",
       "      <th>758</th>\n",
       "      <td>0.66</td>\n",
       "      <td>759.5</td>\n",
       "      <td>318.5</td>\n",
       "      <td>220.50</td>\n",
       "      <td>3.5</td>\n",
       "      <td>4</td>\n",
       "      <td>0.40</td>\n",
       "      <td>5</td>\n",
       "    </tr>\n",
       "    <tr>\n",
       "      <th>34</th>\n",
       "      <td>0.69</td>\n",
       "      <td>735.0</td>\n",
       "      <td>294.0</td>\n",
       "      <td>220.50</td>\n",
       "      <td>3.5</td>\n",
       "      <td>4</td>\n",
       "      <td>0.00</td>\n",
       "      <td>0</td>\n",
       "    </tr>\n",
       "  </tbody>\n",
       "</table>\n",
       "<p>231 rows × 8 columns</p>\n",
       "</div>"
      ],
      "text/plain": [
       "       X1     X2     X3      X4   X5  X6    X7  X8\n",
       "661  0.66  759.5  318.5  220.50  3.5   3  0.40   3\n",
       "122  0.74  686.0  245.0  220.50  3.5   4  0.10   2\n",
       "113  0.79  637.0  343.0  147.00  7.0   3  0.10   2\n",
       "14   0.82  612.5  318.5  147.00  7.0   4  0.00   0\n",
       "529  0.98  514.5  294.0  110.25  7.0   3  0.40   1\n",
       "..    ...    ...    ...     ...  ...  ..   ...  ..\n",
       "165  0.76  661.5  416.5  122.50  7.0   3  0.10   3\n",
       "188  0.62  808.5  367.5  220.50  3.5   2  0.10   3\n",
       "334  0.62  808.5  367.5  220.50  3.5   4  0.25   1\n",
       "758  0.66  759.5  318.5  220.50  3.5   4  0.40   5\n",
       "34   0.69  735.0  294.0  220.50  3.5   4  0.00   0\n",
       "\n",
       "[231 rows x 8 columns]"
      ]
     },
     "execution_count": 173,
     "metadata": {},
     "output_type": "execute_result"
    }
   ],
   "source": [
    "X_test"
   ]
  },
  {
   "cell_type": "code",
   "execution_count": 174,
   "id": "43fa47f3",
   "metadata": {},
   "outputs": [
    {
     "data": {
      "text/plain": [
       "580    35.84\n",
       "418    12.31\n",
       "764    16.54\n",
       "363    12.30\n",
       "757    14.92\n",
       "       ...  \n",
       "763    17.88\n",
       "192    24.38\n",
       "629    34.95\n",
       "559    14.58\n",
       "684    28.93\n",
       "Name: Y1, Length: 537, dtype: float64"
      ]
     },
     "execution_count": 174,
     "metadata": {},
     "output_type": "execute_result"
    }
   ],
   "source": [
    "Y_train"
   ]
  },
  {
   "cell_type": "code",
   "execution_count": 175,
   "id": "ed0d6906",
   "metadata": {},
   "outputs": [
    {
     "data": {
      "text/plain": [
       "661    15.18\n",
       "122    10.32\n",
       "113    37.26\n",
       "14     16.95\n",
       "529    32.26\n",
       "       ...  \n",
       "165    33.28\n",
       "188    12.68\n",
       "334    15.08\n",
       "758    14.92\n",
       "34      6.77\n",
       "Name: Y1, Length: 231, dtype: float64"
      ]
     },
     "execution_count": 175,
     "metadata": {},
     "output_type": "execute_result"
    }
   ],
   "source": [
    "Y_test"
   ]
  },
  {
   "cell_type": "markdown",
   "id": "1116ca45",
   "metadata": {},
   "source": [
    "## Step 6: Applying Models"
   ]
  },
  {
   "cell_type": "markdown",
   "id": "05d03865",
   "metadata": {},
   "source": [
    "## Model 1: Linear Regression"
   ]
  },
  {
   "cell_type": "code",
   "execution_count": 209,
   "id": "e02d1bef",
   "metadata": {},
   "outputs": [
    {
     "data": {
      "text/plain": [
       "LinearRegression()"
      ]
     },
     "execution_count": 209,
     "metadata": {},
     "output_type": "execute_result"
    }
   ],
   "source": [
    "LR =lm.LinearRegression()\n",
    "LR.fit(X_train,Y_train)"
   ]
  },
  {
   "cell_type": "code",
   "execution_count": 211,
   "id": "ee504c86",
   "metadata": {},
   "outputs": [
    {
     "name": "stdout",
     "output_type": "stream",
     "text": [
      "Model Score= 0.913094407928359\n"
     ]
    }
   ],
   "source": [
    "results = ms.cross_val_score(LR, X_train,Y_train, cv=5)\n",
    "print (\"Model Score=\", results.mean())"
   ]
  },
  {
   "cell_type": "code",
   "execution_count": 178,
   "id": "39b4a9ff",
   "metadata": {},
   "outputs": [
    {
     "name": "stdout",
     "output_type": "stream",
     "text": [
      "[17.982028    8.29763184 29.96286188 26.23105497 31.16860919 27.72047172\n",
      " 28.3776539  34.46853115 29.4351857  29.00401072  7.31582493 35.54741411\n",
      " 12.45881248 35.78483607 36.32101672 26.76162056  9.79266364 27.54174484\n",
      " 16.50737762 12.64231402 13.6960409  31.34733607  9.96874888 32.93254405\n",
      "  5.94082493 15.55330112 13.59639052 14.77317684  9.43520988 33.4687247\n",
      " 13.89250756 15.01234582 36.02225803 14.83361894 28.61507586 37.61127093\n",
      " 14.41572308 37.9687247  18.88218408 10.36691017 12.1600538  32.8151539\n",
      " 16.13218408 31.5601857  24.22344512 25.70408876 10.15011741 13.57865074\n",
      " 28.13662056 32.52489968 31.288641   13.29763184 34.70292548 18.39817684\n",
      " 37.78999782  8.06020988 23.22725005 31.20273194 33.11391258 16.7270598\n",
      " 17.92333292 12.70100909 31.46736788  8.83381248 12.46358714 11.50473598\n",
      " 32.75645882 11.20120264 26.94034744 32.9351857  31.58475803 10.0300856\n",
      " 29.12404252 19.11960604 12.84639052 31.38145882 31.76348492 33.29263946\n",
      " 31.9422118  15.43326931 33.54244592 27.95789368 11.80260004 16.74479958\n",
      " 34.82862656 31.4401539  26.00284744 27.60605497 13.77247576 19.06091096\n",
      " 14.11960604 26.88165236 11.08858714 25.28793992 40.16480427 19.05826931\n",
      " 34.52986788 16.48699619  9.56582493 37.49388078 30.08289368 28.82528383\n",
      " 24.10605497 34.34283007  8.77511741 29.61391258 36.3797118  15.13237762\n",
      " 12.52228221 23.16855497 19.02317684 34.76162056 32.226141   12.66766364\n",
      " 12.70365074 13.02511741 12.40011741 30.44034744 26.99904252 40.8797118\n",
      " 34.19601672 11.20861894 12.40489206 33.601141   12.8210409  40.58359476\n",
      " 14.4770598  28.55638078 11.68346286 32.8797118  34.16674484 25.34663499\n",
      " 30.26162056 11.4460409  37.79263946  9.68321509 34.64989968 25.40533007\n",
      " 34.99904252 15.732028   15.22119698 18.30826931 28.25401072  9.61129511\n",
      " 29.84283007 19.23963784 27.71783007 37.13642702 13.75473598 16.68346286\n",
      " 28.91383454 12.2800856  16.68610451 16.32600909 14.06091096 34.4041668\n",
      " 28.25665236 28.76658876 15.30846286 25.88281564 32.63642702 12.34619698\n",
      " 25.52536188 31.10991411 14.59619698 18.31091096 15.36979958 32.52225803\n",
      " 16.86218974 32.16480427 40.28483607 12.9410727  27.66475005 36.20362656\n",
      " 34.88165236 26.06154252 29.43254405 31.26142702 16.84444996 26.1202376\n",
      "  8.47635872 36.02489968 29.85133454 11.05821509 16.03078668 28.35043992\n",
      "  9.49390496 12.58361894 31.32012209 16.20861894 13.415022   12.88237762\n",
      " 18.90578668  9.61393676 17.68326931 14.77492386 17.86463784 25.76278383\n",
      " 10.32620264 32.16475005 16.42830112 13.06110451  8.19082493 15.87476778\n",
      " 29.00665236 33.42241411  9.55260004 17.56587916 11.14728221 13.87476778\n",
      " 28.58786188 13.99957423 29.07773194 27.83786188 10.97119698 13.23629511\n",
      " 25.94415236 31.67757586 30.51142702 11.86218974 33.11127093 12.52492386\n",
      " 16.84709161 12.22139052 30.20292548 31.16499782 34.64158876 13.59374888\n",
      " 16.02989206 18.28078668  8.24952001]\n"
     ]
    }
   ],
   "source": [
    "Y_Pred1 = model.predict(X_test)\n",
    "print(Y_Pred1)"
   ]
  },
  {
   "cell_type": "code",
   "execution_count": 212,
   "id": "83cb8104",
   "metadata": {},
   "outputs": [
    {
     "name": "stdout",
     "output_type": "stream",
     "text": [
      "661   -2.802028\n",
      "122    2.022368\n",
      "113    7.297138\n",
      "14    -9.281055\n",
      "529    1.091391\n",
      "         ...   \n",
      "165   -1.361589\n",
      "188   -0.913749\n",
      "334   -0.949892\n",
      "758   -3.360787\n",
      "34    -1.479520\n",
      "Name: Y1, Length: 231, dtype: float64\n"
     ]
    }
   ],
   "source": [
    "Error = Y_test -Y_Pred1\n",
    "print(Error)"
   ]
  },
  {
   "cell_type": "code",
   "execution_count": 213,
   "id": "a85611af",
   "metadata": {},
   "outputs": [
    {
     "name": "stdout",
     "output_type": "stream",
     "text": [
      "2.240576183953205\n",
      "9.374201004552718\n",
      "0.9108295636459294\n"
     ]
    }
   ],
   "source": [
    "mae = mean_absolute_error (Y_test, Y_Pred1)\n",
    "mse = mean_squared_error (Y_test, Y_Pred1)\n",
    "r_score = r2_score (Y_test, Y_Pred1)\n",
    "print (mae)\n",
    "print (mse)\n",
    "print (r_score)"
   ]
  },
  {
   "cell_type": "code",
   "execution_count": 214,
   "id": "b310fcbc",
   "metadata": {},
   "outputs": [
    {
     "data": {
      "text/plain": [
       "0.9108295636459294"
      ]
     },
     "execution_count": 214,
     "metadata": {},
     "output_type": "execute_result"
    }
   ],
   "source": [
    "LR.score(X_test , Y_test)"
   ]
  },
  {
   "cell_type": "markdown",
   "id": "fa65e300",
   "metadata": {},
   "source": [
    "## Model 2: Ridge Regression Model"
   ]
  },
  {
   "cell_type": "code",
   "execution_count": 181,
   "id": "972e3ada",
   "metadata": {},
   "outputs": [],
   "source": [
    "model_ridge = lm.Ridge(alpha = 10)\n",
    "\n",
    "model_ridge = model_ridge.fit(X_train, Y_train)"
   ]
  },
  {
   "cell_type": "code",
   "execution_count": 182,
   "id": "8551a9ff",
   "metadata": {},
   "outputs": [],
   "source": [
    "Y_Pred2 = model_ridge.predict(X_test)"
   ]
  },
  {
   "cell_type": "code",
   "execution_count": null,
   "id": "02d70824",
   "metadata": {},
   "outputs": [],
   "source": [
    "results = ms.cross_val_score(model, X_train,Y_train, cv=5)\n",
    "print (\"Model Score=\", results.mean())"
   ]
  },
  {
   "cell_type": "code",
   "execution_count": 183,
   "id": "db480fea",
   "metadata": {},
   "outputs": [
    {
     "name": "stdout",
     "output_type": "stream",
     "text": [
      "661    -0.505778\n",
      "122     1.690534\n",
      "113     6.990458\n",
      "14    -10.296871\n",
      "529     1.979749\n",
      "         ...    \n",
      "165    -1.421882\n",
      "188    -2.856554\n",
      "334    -0.995942\n",
      "758    -1.512991\n",
      "34     -2.744581\n",
      "Name: Y1, Length: 231, dtype: float64\n"
     ]
    }
   ],
   "source": [
    "Error = Y_test -Y_Pred2\n",
    "print(Error)"
   ]
  },
  {
   "cell_type": "code",
   "execution_count": 202,
   "id": "86fbd517",
   "metadata": {},
   "outputs": [
    {
     "name": "stdout",
     "output_type": "stream",
     "text": [
      "2.654762164336859\n",
      "12.675985699260114\n",
      "0.879421918148328\n"
     ]
    }
   ],
   "source": [
    "mae = mean_absolute_error (Y_test, Y_Pred2)\n",
    "mse = mean_squared_error (Y_test, Y_Pred2)\n",
    "r_score = r2_score (Y_test, Y_Pred2)\n",
    "print (mae)\n",
    "print (mse)\n",
    "print (r_score)"
   ]
  },
  {
   "cell_type": "markdown",
   "id": "1ce3eb4b",
   "metadata": {},
   "source": [
    "## Model 3: Random Forest Regressor"
   ]
  },
  {
   "cell_type": "code",
   "execution_count": 184,
   "id": "2aca8939",
   "metadata": {},
   "outputs": [
    {
     "name": "stdout",
     "output_type": "stream",
     "text": [
      "0.9996016313636952\n"
     ]
    }
   ],
   "source": [
    "RFR = RandomForestRegressor(random_state=0)\n",
    "RFR = RFR.fit(X_train, Y_train)\n",
    "\n",
    "RFR_score = RFR.score(X_train, Y_train)\n",
    "print(RFR_score)"
   ]
  },
  {
   "cell_type": "code",
   "execution_count": 185,
   "id": "c09e463a",
   "metadata": {},
   "outputs": [],
   "source": [
    "Y_Pred3 = RFR.predict(X_test)"
   ]
  },
  {
   "cell_type": "code",
   "execution_count": 186,
   "id": "0b064b70",
   "metadata": {},
   "outputs": [
    {
     "name": "stdout",
     "output_type": "stream",
     "text": [
      "661   -0.0408\n",
      "122   -0.0945\n",
      "113    1.3020\n",
      "14    -0.5105\n",
      "529   -0.1900\n",
      "        ...  \n",
      "165    0.8309\n",
      "188   -0.0046\n",
      "334   -0.0130\n",
      "758   -0.0402\n",
      "34     0.0141\n",
      "Name: Y1, Length: 231, dtype: float64\n"
     ]
    }
   ],
   "source": [
    "Error = Y_test -Y_Pred3\n",
    "print(Error)"
   ]
  },
  {
   "cell_type": "code",
   "execution_count": 203,
   "id": "611425f9",
   "metadata": {},
   "outputs": [
    {
     "name": "stdout",
     "output_type": "stream",
     "text": [
      "0.34988701298701197\n",
      "0.30415210930735703\n",
      "0.997106806618316\n"
     ]
    }
   ],
   "source": [
    "mae = mean_absolute_error (Y_test, Y_Pred3)\n",
    "mse = mean_squared_error (Y_test, Y_Pred3)\n",
    "r_score = r2_score (Y_test, Y_Pred3)\n",
    "print (mae)\n",
    "print (mse)\n",
    "print (r_score)"
   ]
  },
  {
   "cell_type": "markdown",
   "id": "489349b8",
   "metadata": {},
   "source": [
    "## Model 4: Support Vector Regressor"
   ]
  },
  {
   "cell_type": "code",
   "execution_count": 187,
   "id": "757070c2",
   "metadata": {},
   "outputs": [],
   "source": [
    "SVR = SVR(kernel = 'linear')\n",
    "SVR = SVR.fit(X_train, Y_train)"
   ]
  },
  {
   "cell_type": "code",
   "execution_count": 188,
   "id": "dc659d4a",
   "metadata": {},
   "outputs": [],
   "source": [
    "Y_Pred4 = SVR.predict(X_test)"
   ]
  },
  {
   "cell_type": "code",
   "execution_count": 189,
   "id": "ce6d9987",
   "metadata": {},
   "outputs": [
    {
     "name": "stdout",
     "output_type": "stream",
     "text": [
      "661   -0.817790\n",
      "122    2.147201\n",
      "113    7.646122\n",
      "14    -9.840754\n",
      "529    0.320745\n",
      "         ...   \n",
      "165   -2.426160\n",
      "188   -3.073559\n",
      "334   -2.038472\n",
      "758   -1.353831\n",
      "34    -3.049745\n",
      "Name: Y1, Length: 231, dtype: float64\n"
     ]
    }
   ],
   "source": [
    "Error = Y_test -Y_Pred4\n",
    "print(Error)"
   ]
  },
  {
   "cell_type": "code",
   "execution_count": 204,
   "id": "ca0f35e9",
   "metadata": {},
   "outputs": [
    {
     "name": "stdout",
     "output_type": "stream",
     "text": [
      "2.7586499579218167\n",
      "13.766648400863552\n",
      "0.8690471812539672\n"
     ]
    }
   ],
   "source": [
    "mae = mean_absolute_error (Y_test, Y_Pred4)\n",
    "mse = mean_squared_error (Y_test, Y_Pred4)\n",
    "r_score = r2_score (Y_test, Y_Pred4)\n",
    "print (mae)\n",
    "print (mse)\n",
    "print (r_score)"
   ]
  },
  {
   "cell_type": "markdown",
   "id": "c07ef408",
   "metadata": {},
   "source": [
    "## Model 5: Lasso Regression Model"
   ]
  },
  {
   "cell_type": "code",
   "execution_count": 192,
   "id": "a59fa020",
   "metadata": {},
   "outputs": [],
   "source": [
    "model_lasso = lm.Lasso(alpha = 10)\n",
    "\n",
    "model_lasso = model_lasso.fit(X_train, Y_train)"
   ]
  },
  {
   "cell_type": "code",
   "execution_count": 195,
   "id": "f3e5bb3d",
   "metadata": {},
   "outputs": [],
   "source": [
    "Y_Pred5 = model_lasso.predict(X_test)"
   ]
  },
  {
   "cell_type": "code",
   "execution_count": 196,
   "id": "ef3ec8f2",
   "metadata": {},
   "outputs": [
    {
     "name": "stdout",
     "output_type": "stream",
     "text": [
      "661     0.532525\n",
      "122    -0.956053\n",
      "113     8.505153\n",
      "14    -10.681039\n",
      "529    -0.739014\n",
      "         ...    \n",
      "165    -3.174123\n",
      "188    -4.215089\n",
      "334    -1.815089\n",
      "758     0.272525\n",
      "34     -6.753668\n",
      "Name: Y1, Length: 231, dtype: float64\n"
     ]
    }
   ],
   "source": [
    "Error = Y_test -Y_Pred5\n",
    "print(Error)"
   ]
  },
  {
   "cell_type": "code",
   "execution_count": 205,
   "id": "f23f19a8",
   "metadata": {},
   "outputs": [
    {
     "name": "stdout",
     "output_type": "stream",
     "text": [
      "3.576137016267189\n",
      "25.791876661643833\n",
      "0.7546593149440488\n"
     ]
    }
   ],
   "source": [
    "mae = mean_absolute_error (Y_test, Y_Pred5)\n",
    "mse = mean_squared_error (Y_test, Y_Pred5)\n",
    "r_score = r2_score (Y_test, Y_Pred5)\n",
    "print (mae)\n",
    "print (mse)\n",
    "print (r_score)"
   ]
  },
  {
   "cell_type": "markdown",
   "id": "e3f2f8d3",
   "metadata": {},
   "source": [
    "## Model 6: Arificial Nueral Network (ANN)\n",
    "\n",
    "### Normalizing the data for ANN model"
   ]
  },
  {
   "cell_type": "code",
   "execution_count": 190,
   "id": "95c31c63",
   "metadata": {},
   "outputs": [],
   "source": [
    "sx = preprocessing.Normalizer()\n",
    "sy = preprocessing.Normalizer()\n",
    "\n",
    "scaled_X_train = sx.fit_transform(X_train)\n",
    "scaled_X_test = sx.fit_transform(X_test)\n",
    "scaled_Y_train = sx.fit_transform(Y_train.values.reshape(X_train.shape[0],1))\n",
    "scaled_Y_test = sx.fit_transform(Y_test.values.reshape(X_test.shape[0],1))"
   ]
  },
  {
   "cell_type": "code",
   "execution_count": 191,
   "id": "24445bc1",
   "metadata": {},
   "outputs": [
    {
     "name": "stdout",
     "output_type": "stream",
     "text": [
      "Epoch 1/20\n",
      "17/17 [==============================] - 6s 8ms/step - loss: 0.7110 - accuracy: 0.0317\n",
      "Epoch 2/20\n",
      "17/17 [==============================] - 0s 5ms/step - loss: 0.3697 - accuracy: 0.3464\n",
      "Epoch 3/20\n",
      "17/17 [==============================] - 0s 4ms/step - loss: 0.1997 - accuracy: 0.6946\n",
      "Epoch 4/20\n",
      "17/17 [==============================] - 0s 4ms/step - loss: 0.1023 - accuracy: 0.8622\n",
      "Epoch 5/20\n",
      "17/17 [==============================] - 0s 4ms/step - loss: 0.0787 - accuracy: 0.9013\n",
      "Epoch 6/20\n",
      "17/17 [==============================] - 0s 4ms/step - loss: 0.0655 - accuracy: 0.9330\n",
      "Epoch 7/20\n",
      "17/17 [==============================] - 0s 4ms/step - loss: 0.0632 - accuracy: 0.9385\n",
      "Epoch 8/20\n",
      "17/17 [==============================] - 0s 4ms/step - loss: 0.0520 - accuracy: 0.9646\n",
      "Epoch 9/20\n",
      "17/17 [==============================] - 0s 4ms/step - loss: 0.0572 - accuracy: 0.9423\n",
      "Epoch 10/20\n",
      "17/17 [==============================] - 0s 4ms/step - loss: 0.0596 - accuracy: 0.9385\n",
      "Epoch 11/20\n",
      "17/17 [==============================] - 0s 4ms/step - loss: 0.0531 - accuracy: 0.9497\n",
      "Epoch 12/20\n",
      "17/17 [==============================] - 0s 4ms/step - loss: 0.0524 - accuracy: 0.9423\n",
      "Epoch 13/20\n",
      "17/17 [==============================] - 0s 5ms/step - loss: 0.0472 - accuracy: 0.9534\n",
      "Epoch 14/20\n",
      "17/17 [==============================] - 0s 4ms/step - loss: 0.0543 - accuracy: 0.9404\n",
      "Epoch 15/20\n",
      "17/17 [==============================] - 0s 3ms/step - loss: 0.0489 - accuracy: 0.9609\n",
      "Epoch 16/20\n",
      "17/17 [==============================] - 0s 3ms/step - loss: 0.0457 - accuracy: 0.9628\n",
      "Epoch 17/20\n",
      "17/17 [==============================] - 0s 4ms/step - loss: 0.0465 - accuracy: 0.9590\n",
      "Epoch 18/20\n",
      "17/17 [==============================] - 0s 4ms/step - loss: 0.0527 - accuracy: 0.9460\n",
      "Epoch 19/20\n",
      "17/17 [==============================] - 0s 4ms/step - loss: 0.0550 - accuracy: 0.9497\n",
      "Epoch 20/20\n",
      "17/17 [==============================] - 0s 4ms/step - loss: 0.0454 - accuracy: 0.9702\n"
     ]
    },
    {
     "data": {
      "text/plain": [
       "<keras.callbacks.History at 0x2413387c340>"
      ]
     },
     "execution_count": 191,
     "metadata": {},
     "output_type": "execute_result"
    }
   ],
   "source": [
    "model = keras.Sequential([\n",
    "    keras.layers.Dense(6, input_shape=(8,), activation = 'linear'),\n",
    "    keras.layers.Dropout(0.1),\n",
    "    keras.layers.Dense(4, activation = 'linear'),\n",
    "    keras.layers.Dropout(0.1),\n",
    "    keras.layers.Dense(1, activation = 'linear')\n",
    "    \n",
    "    \n",
    "])\n",
    "\n",
    "model.compile(optimizer='adam', loss='mse', metrics=['accuracy'])\n",
    "\n",
    "model.fit(scaled_X_train,scaled_Y_train,epochs = 20)"
   ]
  },
  {
   "cell_type": "code",
   "execution_count": null,
   "id": "35a6d4c3",
   "metadata": {},
   "outputs": [],
   "source": []
  }
 ],
 "metadata": {
  "kernelspec": {
   "display_name": "Python 3 (ipykernel)",
   "language": "python",
   "name": "python3"
  },
  "language_info": {
   "codemirror_mode": {
    "name": "ipython",
    "version": 3
   },
   "file_extension": ".py",
   "mimetype": "text/x-python",
   "name": "python",
   "nbconvert_exporter": "python",
   "pygments_lexer": "ipython3",
   "version": "3.9.7"
  }
 },
 "nbformat": 4,
 "nbformat_minor": 5
}
